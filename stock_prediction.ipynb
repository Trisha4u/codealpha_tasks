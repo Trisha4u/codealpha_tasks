{
 "cells": [
  {
   "cell_type": "code",
   "execution_count": 2,
   "id": "5fea413b-8f92-4b32-8096-601a1aa58255",
   "metadata": {},
   "outputs": [
    {
     "name": "stdout",
     "output_type": "stream",
     "text": [
      "Requirement already satisfied: torch in c:\\users\\trish\\appdata\\local\\programs\\python\\python312\\lib\\site-packages (2.3.0)\n",
      "Requirement already satisfied: filelock in c:\\users\\trish\\appdata\\roaming\\python\\python312\\site-packages (from torch) (3.13.1)\n",
      "Requirement already satisfied: typing-extensions>=4.8.0 in c:\\users\\trish\\appdata\\roaming\\python\\python312\\site-packages (from torch) (4.9.0)\n",
      "Requirement already satisfied: sympy in c:\\users\\trish\\appdata\\local\\programs\\python\\python312\\lib\\site-packages (from torch) (1.12)\n",
      "Requirement already satisfied: networkx in c:\\users\\trish\\appdata\\roaming\\python\\python312\\site-packages (from torch) (3.2.1)\n",
      "Requirement already satisfied: jinja2 in c:\\users\\trish\\appdata\\roaming\\python\\python312\\site-packages (from torch) (3.1.3)\n",
      "Requirement already satisfied: fsspec in c:\\users\\trish\\appdata\\roaming\\python\\python312\\site-packages (from torch) (2023.12.2)\n",
      "Requirement already satisfied: mkl<=2021.4.0,>=2021.1.1 in c:\\users\\trish\\appdata\\local\\programs\\python\\python312\\lib\\site-packages (from torch) (2021.4.0)\n",
      "Requirement already satisfied: intel-openmp==2021.* in c:\\users\\trish\\appdata\\local\\programs\\python\\python312\\lib\\site-packages (from mkl<=2021.4.0,>=2021.1.1->torch) (2021.4.0)\n",
      "Requirement already satisfied: tbb==2021.* in c:\\users\\trish\\appdata\\local\\programs\\python\\python312\\lib\\site-packages (from mkl<=2021.4.0,>=2021.1.1->torch) (2021.12.0)\n",
      "Requirement already satisfied: MarkupSafe>=2.0 in c:\\users\\trish\\appdata\\roaming\\python\\python312\\site-packages (from jinja2->torch) (2.1.4)\n",
      "Requirement already satisfied: mpmath>=0.19 in c:\\users\\trish\\appdata\\local\\programs\\python\\python312\\lib\\site-packages (from sympy->torch) (1.3.0)\n",
      "Note: you may need to restart the kernel to use updated packages.\n"
     ]
    }
   ],
   "source": [
    "pip install torch"
   ]
  },
  {
   "cell_type": "code",
   "execution_count": null,
   "id": "c6b7b829-722e-4e3e-a9d1-2db6ff89bf8b",
   "metadata": {},
   "outputs": [],
   "source": [
    "import numpy as np\n",
    "import pandas as pd\n",
    "from sklearn.preprocessing import MinMaxScaler\n",
    "import matplotlib.pyplot as plt"
   ]
  },
  {
   "cell_type": "code",
   "execution_count": 3,
   "id": "3221e5d0-901d-4681-bc4d-e7f3feb81c6f",
   "metadata": {},
   "outputs": [],
   "source": [
    "import torch\n",
    "import torch.nn as nn"
   ]
  },
  {
   "cell_type": "code",
   "execution_count": 9,
   "id": "3da9f13f-9c70-460d-af72-c468f62bb223",
   "metadata": {},
   "outputs": [],
   "source": [
    "df = pd.read_csv(\"/Users/trish/Downloads/netflix.csv\")\n",
    "closed_prices = df[\"Close\"]"
   ]
  },
  {
   "cell_type": "code",
   "execution_count": 10,
   "id": "01743a25-ce5b-4c50-8da0-8d2b295715ee",
   "metadata": {},
   "outputs": [
    {
     "data": {
      "text/html": [
       "<div>\n",
       "<style scoped>\n",
       "    .dataframe tbody tr th:only-of-type {\n",
       "        vertical-align: middle;\n",
       "    }\n",
       "\n",
       "    .dataframe tbody tr th {\n",
       "        vertical-align: top;\n",
       "    }\n",
       "\n",
       "    .dataframe thead th {\n",
       "        text-align: right;\n",
       "    }\n",
       "</style>\n",
       "<table border=\"1\" class=\"dataframe\">\n",
       "  <thead>\n",
       "    <tr style=\"text-align: right;\">\n",
       "      <th></th>\n",
       "      <th>Date</th>\n",
       "      <th>High</th>\n",
       "      <th>Low</th>\n",
       "      <th>Open</th>\n",
       "      <th>Close</th>\n",
       "      <th>Volume</th>\n",
       "      <th>Adj Close</th>\n",
       "    </tr>\n",
       "  </thead>\n",
       "  <tbody>\n",
       "    <tr>\n",
       "      <th>0</th>\n",
       "      <td>23-05-2002</td>\n",
       "      <td>1.242857</td>\n",
       "      <td>1.145714</td>\n",
       "      <td>1.156429</td>\n",
       "      <td>1.196429</td>\n",
       "      <td>104790000</td>\n",
       "      <td>1.196429</td>\n",
       "    </tr>\n",
       "    <tr>\n",
       "      <th>1</th>\n",
       "      <td>24-05-2002</td>\n",
       "      <td>1.225000</td>\n",
       "      <td>1.197143</td>\n",
       "      <td>1.214286</td>\n",
       "      <td>1.210000</td>\n",
       "      <td>11104800</td>\n",
       "      <td>1.210000</td>\n",
       "    </tr>\n",
       "    <tr>\n",
       "      <th>2</th>\n",
       "      <td>28-05-2002</td>\n",
       "      <td>1.232143</td>\n",
       "      <td>1.157143</td>\n",
       "      <td>1.213571</td>\n",
       "      <td>1.157143</td>\n",
       "      <td>6609400</td>\n",
       "      <td>1.157143</td>\n",
       "    </tr>\n",
       "    <tr>\n",
       "      <th>3</th>\n",
       "      <td>29-05-2002</td>\n",
       "      <td>1.164286</td>\n",
       "      <td>1.085714</td>\n",
       "      <td>1.164286</td>\n",
       "      <td>1.103571</td>\n",
       "      <td>6757800</td>\n",
       "      <td>1.103571</td>\n",
       "    </tr>\n",
       "    <tr>\n",
       "      <th>4</th>\n",
       "      <td>30-05-2002</td>\n",
       "      <td>1.107857</td>\n",
       "      <td>1.071429</td>\n",
       "      <td>1.107857</td>\n",
       "      <td>1.071429</td>\n",
       "      <td>10154200</td>\n",
       "      <td>1.071429</td>\n",
       "    </tr>\n",
       "    <tr>\n",
       "      <th>...</th>\n",
       "      <td>...</td>\n",
       "      <td>...</td>\n",
       "      <td>...</td>\n",
       "      <td>...</td>\n",
       "      <td>...</td>\n",
       "      <td>...</td>\n",
       "      <td>...</td>\n",
       "    </tr>\n",
       "    <tr>\n",
       "      <th>4876</th>\n",
       "      <td>05-10-2021</td>\n",
       "      <td>640.390015</td>\n",
       "      <td>606.890015</td>\n",
       "      <td>606.940002</td>\n",
       "      <td>634.809998</td>\n",
       "      <td>9534300</td>\n",
       "      <td>634.809998</td>\n",
       "    </tr>\n",
       "    <tr>\n",
       "      <th>4877</th>\n",
       "      <td>06-10-2021</td>\n",
       "      <td>639.869995</td>\n",
       "      <td>626.359985</td>\n",
       "      <td>628.179993</td>\n",
       "      <td>639.099976</td>\n",
       "      <td>4580400</td>\n",
       "      <td>639.099976</td>\n",
       "    </tr>\n",
       "    <tr>\n",
       "      <th>4878</th>\n",
       "      <td>07-10-2021</td>\n",
       "      <td>646.840027</td>\n",
       "      <td>630.450012</td>\n",
       "      <td>642.229981</td>\n",
       "      <td>631.849976</td>\n",
       "      <td>3556900</td>\n",
       "      <td>631.849976</td>\n",
       "    </tr>\n",
       "    <tr>\n",
       "      <th>4879</th>\n",
       "      <td>08-10-2021</td>\n",
       "      <td>643.799988</td>\n",
       "      <td>630.859985</td>\n",
       "      <td>634.169983</td>\n",
       "      <td>632.659973</td>\n",
       "      <td>3271100</td>\n",
       "      <td>632.659973</td>\n",
       "    </tr>\n",
       "    <tr>\n",
       "      <th>4880</th>\n",
       "      <td>11-10-2021</td>\n",
       "      <td>639.419983</td>\n",
       "      <td>626.780029</td>\n",
       "      <td>633.200012</td>\n",
       "      <td>627.039978</td>\n",
       "      <td>2861200</td>\n",
       "      <td>627.039978</td>\n",
       "    </tr>\n",
       "  </tbody>\n",
       "</table>\n",
       "<p>4881 rows × 7 columns</p>\n",
       "</div>"
      ],
      "text/plain": [
       "            Date        High         Low        Open       Close     Volume  \\\n",
       "0     23-05-2002    1.242857    1.145714    1.156429    1.196429  104790000   \n",
       "1     24-05-2002    1.225000    1.197143    1.214286    1.210000   11104800   \n",
       "2     28-05-2002    1.232143    1.157143    1.213571    1.157143    6609400   \n",
       "3     29-05-2002    1.164286    1.085714    1.164286    1.103571    6757800   \n",
       "4     30-05-2002    1.107857    1.071429    1.107857    1.071429   10154200   \n",
       "...          ...         ...         ...         ...         ...        ...   \n",
       "4876  05-10-2021  640.390015  606.890015  606.940002  634.809998    9534300   \n",
       "4877  06-10-2021  639.869995  626.359985  628.179993  639.099976    4580400   \n",
       "4878  07-10-2021  646.840027  630.450012  642.229981  631.849976    3556900   \n",
       "4879  08-10-2021  643.799988  630.859985  634.169983  632.659973    3271100   \n",
       "4880  11-10-2021  639.419983  626.780029  633.200012  627.039978    2861200   \n",
       "\n",
       "       Adj Close  \n",
       "0       1.196429  \n",
       "1       1.210000  \n",
       "2       1.157143  \n",
       "3       1.103571  \n",
       "4       1.071429  \n",
       "...          ...  \n",
       "4876  634.809998  \n",
       "4877  639.099976  \n",
       "4878  631.849976  \n",
       "4879  632.659973  \n",
       "4880  627.039978  \n",
       "\n",
       "[4881 rows x 7 columns]"
      ]
     },
     "execution_count": 10,
     "metadata": {},
     "output_type": "execute_result"
    }
   ],
   "source": [
    "df"
   ]
  },
  {
   "cell_type": "code",
   "execution_count": 11,
   "id": "6868f723-8308-45f3-abe1-6b9596d1b855",
   "metadata": {},
   "outputs": [],
   "source": [
    "seq_len = 15"
   ]
  },
  {
   "cell_type": "code",
   "execution_count": 12,
   "id": "79f3008c-7380-4d0d-9bdc-60faed97f02e",
   "metadata": {},
   "outputs": [],
   "source": [
    "mm = MinMaxScaler()\n",
    "scaled_price = mm.fit_transform(np.array(closed_prices)[... , None]).squeeze()"
   ]
  },
  {
   "cell_type": "code",
   "execution_count": 13,
   "id": "f80c0108-8d1a-4c3c-a950-0ad94523f8cd",
   "metadata": {},
   "outputs": [],
   "source": [
    "\n",
    "X=[]\n",
    "Y=[]"
   ]
  },
  {
   "cell_type": "code",
   "execution_count": 14,
   "id": "699d7808-8491-4022-a36c-acfde17f5a3c",
   "metadata": {},
   "outputs": [],
   "source": [
    "for i in range(len(scaled_price) - seq_len):\n",
    "    X.append(scaled_price[i : i+ seq_len])\n",
    "    Y.append(scaled_price[i+seq_len])"
   ]
  },
  {
   "cell_type": "code",
   "execution_count": 15,
   "id": "62f91950-15bf-4d43-b63c-4cd5bcc2a9e7",
   "metadata": {},
   "outputs": [],
   "source": [
    "X = np.array(X)[... , None]\n",
    "Y = np.array(Y)[... ,None]"
   ]
  },
  {
   "cell_type": "code",
   "execution_count": 16,
   "id": "714b8cdd-6f48-43fc-93d1-52ad0b2c5d2c",
   "metadata": {},
   "outputs": [],
   "source": [
    "train_x = torch.from_numpy(X[:int(0.8*X.shape[0])]).float()\n",
    "train_y = torch.from_numpy(Y[:int(0.8*Y.shape[0])]).float()\n",
    "test_x = torch.from_numpy(X[:int(0.8*X.shape[0])]).float()\n",
    "test_y = torch.from_numpy(Y[:int(0.8*Y.shape[0])]).float()"
   ]
  },
  {
   "cell_type": "code",
   "execution_count": 17,
   "id": "0c069f75-c540-4594-8cae-9ff6942db963",
   "metadata": {},
   "outputs": [],
   "source": [
    "class Model(nn.Module):\n",
    "    def __init__(self,input_size,hidden_size):\n",
    "        super().__init__()\n",
    "        self.lstm = nn.LSTM(input_size , hidden_size,batch_first=True)\n",
    "        self.fc=nn.Linear(hidden_size, 1)\n",
    "    def forward(self , x):\n",
    "        output,(hidden,cell)=self.lstm(x)\n",
    "        return self.fc(hidden[-1,:])"
   ]
  },
  {
   "cell_type": "code",
   "execution_count": 18,
   "id": "f1fc621d-120e-450b-b734-6bb912e4c155",
   "metadata": {},
   "outputs": [],
   "source": [
    "model = Model(1,64)"
   ]
  },
  {
   "cell_type": "code",
   "execution_count": 19,
   "id": "882c0856-7491-4bdd-9721-8417b0b438c4",
   "metadata": {},
   "outputs": [],
   "source": [
    "optimizer=torch.optim.Adam(model.parameters(), lr=0.001)"
   ]
  },
  {
   "cell_type": "code",
   "execution_count": 20,
   "id": "1b422140-520c-47e6-9ee2-f6fa2f98272d",
   "metadata": {},
   "outputs": [],
   "source": [
    "loss_fn = nn.MSELoss()"
   ]
  },
  {
   "cell_type": "code",
   "execution_count": 21,
   "id": "575fd2c2-1258-4084-bcaf-aa00c6a96936",
   "metadata": {},
   "outputs": [],
   "source": [
    "num_epochs=100"
   ]
  },
  {
   "cell_type": "code",
   "execution_count": 22,
   "id": "fff8f14e-7dc7-46c5-96b7-854da0d97a1d",
   "metadata": {},
   "outputs": [
    {
     "name": "stdout",
     "output_type": "stream",
     "text": [
      "10 epoch loss 0.00600067\n",
      "20 epoch loss 0.0049300278\n",
      "30 epoch loss 0.004744564\n",
      "40 epoch loss 0.0043800604\n",
      "50 epoch loss 0.003928592\n",
      "60 epoch loss 0.0032170506\n",
      "70 epoch loss 0.0015313838\n",
      "80 epoch loss 0.00056310004\n",
      "90 epoch loss 0.0002010084\n"
     ]
    }
   ],
   "source": [
    "for epoch in range(num_epochs):\n",
    "    output = model(train_x)\n",
    "    loss=loss_fn(output,train_y)\n",
    "    \n",
    "    optimizer.zero_grad()\n",
    "    loss.backward()\n",
    "    optimizer.step()\n",
    "    \n",
    "    if epoch % 10==0 and epoch !=0:\n",
    "        print(epoch , \"epoch loss\", loss.detach().numpy())"
   ]
  },
  {
   "cell_type": "code",
   "execution_count": 23,
   "id": "094c665d-096d-471f-a7b6-b3e0bb04d31e",
   "metadata": {},
   "outputs": [],
   "source": [
    "model.eval()\n",
    "with torch.no_grad():\n",
    "    output=model(test_x)"
   ]
  },
  {
   "cell_type": "code",
   "execution_count": 24,
   "id": "a738160b-e828-49b2-9ba2-9695de527baa",
   "metadata": {},
   "outputs": [],
   "source": [
    "pred=mm.inverse_transform(output.numpy())\n",
    "real=mm.inverse_transform(test_y.numpy())\n"
   ]
  },
  {
   "cell_type": "code",
   "execution_count": 25,
   "id": "1c68d4cf-9cd5-4c98-a461-1aa0ef94811b",
   "metadata": {},
   "outputs": [
    {
     "data": {
      "image/png": "[encoded data removed]",
      "text/plain": [
       "<Figure size 640x480 with 1 Axes>"
      ]
     },
     "metadata": {},
     "output_type": "display_data"
    }
   ],
   "source": [
    "plt.plot(pred.squeeze(),color=\"red\",label=\"predicted\")\n",
    "plt.plot(real.squeeze(),color=\"green\",label=\"real\")\n",
    "plt.show()"
   ]
  },
  {
   "cell_type": "code",
   "execution_count": null,
   "id": "a4e8a3ea-9648-4349-88cb-85dc479dfaa1",
   "metadata": {},
   "outputs": [],
   "source": []
  }
 ],
 "metadata": {
  "kernelspec": {
   "display_name": "Python 3 (ipykernel)",
   "language": "python",
   "name": "python3"
  },
  "language_info": {
   "codemirror_mode": {
    "name": "ipython",
    "version": 3
   },
   "file_extension": ".py",
   "mimetype": "text/x-python",
   "name": "python",
   "nbconvert_exporter": "python",
   "pygments_lexer": "ipython3",
   "version": "3.12.3"
  }
 },
 "nbformat": 4,
 "nbformat_minor": 5
}
